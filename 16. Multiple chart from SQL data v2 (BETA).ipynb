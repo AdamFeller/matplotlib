{
 "cells": [
  {
   "cell_type": "markdown",
   "metadata": {},
   "source": [
    "# 16. Multiple chart from SQL data"
   ]
  },
  {
   "cell_type": "code",
   "execution_count": 30,
   "metadata": {},
   "outputs": [],
   "source": [
    "import pyodbc\n",
    "import pandas as pd\n",
    "import numpy as np\n",
    "import matplotlib.pyplot as plt\n",
    "from PyPDF2 import PdfFileWriter, PdfFileReader\n",
    "from matplotlib.backends.backend_pdf import PdfPages\n",
    "from matplotlib import style\n",
    "import os\n",
    "style.use('fivethirtyeight')"
   ]
  },
  {
   "cell_type": "code",
   "execution_count": 31,
   "metadata": {
    "collapsed": true
   },
   "outputs": [],
   "source": [
    "cnxn = pyodbc.connect(\"Driver={SQL Server Native Client 11.0};\"\n",
    "                      \"Server=BDPRADA.LACAISSE.COM;\"\n",
    "                      \"Database=ADA_BETA;\"\n",
    "                      \"Trusted_Connection=yes;\")\n",
    "\n",
    "df = pd.read_sql_query('SELECT * FROM [sandbox_analyse_quantitative].[Swaption_v1]',cnxn)"
   ]
  },
  {
   "cell_type": "code",
   "execution_count": 32,
   "metadata": {},
   "outputs": [
    {
     "data": {
      "text/plain": [
       "RIC                        object\n",
       "ccy                      category\n",
       "expiry                   category\n",
       "tenor                    category\n",
       "relative_strike             int64\n",
       "vDate              datetime64[ns]\n",
       "Norm_Vol_JPM              float64\n",
       "Norm_Vol_TP               float64\n",
       "Norm_vol_Citi             float64\n",
       "dtype: object"
      ]
     },
     "execution_count": 32,
     "metadata": {},
     "output_type": "execute_result"
    }
   ],
   "source": [
    "df.vDate = pd.to_datetime(df.vDate)\n",
    "df['ccy'] = df.ccy.astype('category', categories = ['USD','EUR'], ordered =True)\n",
    "df['expiry'] = df.expiry.astype('category', categories = [ '01M', '03M','06M','01Y','02Y'], ordered =True)\n",
    "df['tenor'] = df.tenor.astype('category', categories = [ '02Y', '05Y', '10Y', '30Y'], ordered =True)\n",
    "df['relative_strike'] = pd.to_numeric(df.relative_strike)\n",
    "df.dtypes"
   ]
  },
  {
   "cell_type": "code",
   "execution_count": 33,
   "metadata": {},
   "outputs": [
    {
     "data": {
      "text/html": [
       "<div>\n",
       "<style>\n",
       "    .dataframe thead tr:only-child th {\n",
       "        text-align: right;\n",
       "    }\n",
       "\n",
       "    .dataframe thead th {\n",
       "        text-align: left;\n",
       "    }\n",
       "\n",
       "    .dataframe tbody tr th {\n",
       "        vertical-align: top;\n",
       "    }\n",
       "</style>\n",
       "<table border=\"1\" class=\"dataframe\">\n",
       "  <thead>\n",
       "    <tr style=\"text-align: right;\">\n",
       "      <th></th>\n",
       "      <th>RIC</th>\n",
       "      <th>ccy</th>\n",
       "      <th>expiry</th>\n",
       "      <th>tenor</th>\n",
       "      <th>relative_strike</th>\n",
       "      <th>vDate</th>\n",
       "      <th>Norm_Vol_JPM</th>\n",
       "      <th>Norm_Vol_TP</th>\n",
       "      <th>Norm_vol_Citi</th>\n",
       "    </tr>\n",
       "  </thead>\n",
       "  <tbody>\n",
       "    <tr>\n",
       "      <th>0</th>\n",
       "      <td>SSSR1USD01M02Y</td>\n",
       "      <td>USD</td>\n",
       "      <td>01M</td>\n",
       "      <td>02Y</td>\n",
       "      <td>-100</td>\n",
       "      <td>2000-01-03</td>\n",
       "      <td>96.658608</td>\n",
       "      <td>NaN</td>\n",
       "      <td>NaN</td>\n",
       "    </tr>\n",
       "    <tr>\n",
       "      <th>1</th>\n",
       "      <td>SSSR1USD01M02Y</td>\n",
       "      <td>USD</td>\n",
       "      <td>01M</td>\n",
       "      <td>02Y</td>\n",
       "      <td>-100</td>\n",
       "      <td>2000-01-04</td>\n",
       "      <td>97.098015</td>\n",
       "      <td>NaN</td>\n",
       "      <td>NaN</td>\n",
       "    </tr>\n",
       "    <tr>\n",
       "      <th>2</th>\n",
       "      <td>SSSR1USD01M02Y</td>\n",
       "      <td>USD</td>\n",
       "      <td>01M</td>\n",
       "      <td>02Y</td>\n",
       "      <td>-100</td>\n",
       "      <td>2000-01-05</td>\n",
       "      <td>100.725816</td>\n",
       "      <td>NaN</td>\n",
       "      <td>NaN</td>\n",
       "    </tr>\n",
       "    <tr>\n",
       "      <th>3</th>\n",
       "      <td>SSSR1USD01M02Y</td>\n",
       "      <td>USD</td>\n",
       "      <td>01M</td>\n",
       "      <td>02Y</td>\n",
       "      <td>-100</td>\n",
       "      <td>2000-01-06</td>\n",
       "      <td>100.693591</td>\n",
       "      <td>NaN</td>\n",
       "      <td>NaN</td>\n",
       "    </tr>\n",
       "    <tr>\n",
       "      <th>4</th>\n",
       "      <td>SSSR1USD01M02Y</td>\n",
       "      <td>USD</td>\n",
       "      <td>01M</td>\n",
       "      <td>02Y</td>\n",
       "      <td>-100</td>\n",
       "      <td>2000-01-07</td>\n",
       "      <td>99.104076</td>\n",
       "      <td>NaN</td>\n",
       "      <td>NaN</td>\n",
       "    </tr>\n",
       "  </tbody>\n",
       "</table>\n",
       "</div>"
      ],
      "text/plain": [
       "              RIC  ccy expiry tenor  relative_strike      vDate  Norm_Vol_JPM  \\\n",
       "0  SSSR1USD01M02Y  USD    01M   02Y             -100 2000-01-03     96.658608   \n",
       "1  SSSR1USD01M02Y  USD    01M   02Y             -100 2000-01-04     97.098015   \n",
       "2  SSSR1USD01M02Y  USD    01M   02Y             -100 2000-01-05    100.725816   \n",
       "3  SSSR1USD01M02Y  USD    01M   02Y             -100 2000-01-06    100.693591   \n",
       "4  SSSR1USD01M02Y  USD    01M   02Y             -100 2000-01-07     99.104076   \n",
       "\n",
       "   Norm_Vol_TP  Norm_vol_Citi  \n",
       "0          NaN            NaN  \n",
       "1          NaN            NaN  \n",
       "2          NaN            NaN  \n",
       "3          NaN            NaN  \n",
       "4          NaN            NaN  "
      ]
     },
     "execution_count": 33,
     "metadata": {},
     "output_type": "execute_result"
    }
   ],
   "source": [
    "df.sort_values(['ccy','expiry','tenor','relative_strike','vDate'],inplace=True)\n",
    "df = df.reset_index(drop = True)\n",
    "df.head()"
   ]
  },
  {
   "cell_type": "markdown",
   "metadata": {},
   "source": [
    "## Plot"
   ]
  },
  {
   "cell_type": "code",
   "execution_count": 36,
   "metadata": {
    "collapsed": true
   },
   "outputs": [],
   "source": [
    "ccy = list(df.ccy.unique())\n",
    "expiry = list(df.expiry.unique().sort_values())\n",
    "tenor = list(df.tenor.unique().sort_values())\n",
    "relative_strike = sorted(df.relative_strike.unique().tolist())"
   ]
  },
  {
   "cell_type": "code",
   "execution_count": 26,
   "metadata": {
    "collapsed": true
   },
   "outputs": [],
   "source": [
    "#for i in ccy:\n",
    "pdf_Title = []\n",
    "i = 'EUR'\n",
    "for j in expiry:\n",
    "    for k in tenor:\n",
    "        for ii in relative_strike:\n",
    "            curSeries = df.loc[(df.ccy == i) & (df.expiry == j) & (df.tenor == k) & (df.relative_strike == ii),:]\n",
    "\n",
    "            plt.figure(figsize=(18, 10), dpi= 80, facecolor='w', edgecolor='k')\n",
    "\n",
    "            ax1 = plt.subplot2grid((6,6), (0,0), rowspan = 5, colspan =4)\n",
    "            ax2 = plt.subplot2grid((6,6), (0,5), rowspan = 1, colspan =1)\n",
    "            ax3 = plt.subplot2grid((6,6), (1,5), rowspan = 1, colspan =1)\n",
    "            ax4 = plt.subplot2grid((6,6), (2,5), rowspan = 1, colspan =1)\n",
    "            ax5 = plt.subplot2grid((6,6), (3,5), rowspan = 1, colspan =1)\n",
    "            ax6 = plt.subplot2grid((6,6), (4,5), rowspan = 1, colspan =1)\n",
    "\n",
    "\n",
    "            #AX1---------------------------------------------\n",
    "            x = curSeries.vDate\n",
    "            y1 = curSeries.Norm_Vol_JPM\n",
    "            y2 = curSeries.Norm_Vol_TP\n",
    "            y3 = curSeries.Norm_vol_Citi\n",
    "\n",
    "\n",
    "            ax1.plot(x,y1, label = 'Norm_Vol_JPM')\n",
    "            ax1.plot(x,y2, label = 'Norm_Vol_TP')\n",
    "            ax1.plot(x,y3, label = 'Norm_Vol_Citi')\n",
    "\n",
    "            pTitle = i+j+k+str(ii)\n",
    "\n",
    "            ax1.set_title(pTitle)\n",
    "            ax1.legend()\n",
    "            #AX2---------------------------------------------\n",
    "\n",
    "            expiry1M = np.zeros((len(relative_strike),len(tenor)))\n",
    "            if j == '01M':\n",
    "                expiry1M[relative_strike.index(ii), tenor.index(k)] = 1\n",
    "\n",
    "            ax2.pcolor(expiry1M, edgecolors = 'k', linewidths = 2)\n",
    "\n",
    "            ax2.set_xticklabels(['02Y', '05Y', '10Y', '30Y'], fontdict = {'fontsize': 10})#, rotation='vertical')\n",
    "            ax2.set_xticks([.5, 1.5, 2.5, 3.5])\n",
    "            ax2.set_yticklabels(['-100', '-50', '-25', '0', '25', '50', '100'], fontdict = {'fontsize': 10})#, rotation='vertical')\n",
    "            ax2.set_yticks([.5, 1.5, 2.5, 3.5, 4.5, 5.5, 6.5])\n",
    "            ax2.set_ylabel('01M')\n",
    "\n",
    "            #AX3---------------------------------------------\n",
    "\n",
    "            expiry3M = np.zeros((len(relative_strike),len(tenor)))\n",
    "            if j == '03M':\n",
    "                expiry3M[relative_strike.index(ii), tenor.index(k)] = 1\n",
    "\n",
    "            ax3.pcolor(expiry3M, edgecolors = 'k', linewidths = 2)\n",
    "\n",
    "            ax3.set_xticklabels(['02Y', '05Y', '10Y', '30Y'], fontdict = {'fontsize': 10})#, rotation='vertical')\n",
    "            ax3.set_xticks([.5, 1.5, 2.5, 3.5])\n",
    "            ax3.set_yticklabels(['-100', '-50', '-25', '0', '25', '50', '100'], fontdict = {'fontsize': 10})#, rotation='vertical')\n",
    "            ax3.set_yticks([.5, 1.5, 2.5, 3.5, 4.5, 5.5, 6.5])\n",
    "            ax3.set_ylabel('03M')\n",
    "\n",
    "            #AX4---------------------------------------------\n",
    "\n",
    "            expiry6M = np.zeros((len(relative_strike),len(tenor)))\n",
    "            if j == '06M':\n",
    "                expiry6M[relative_strike.index(ii), tenor.index(k)] = 1\n",
    "\n",
    "            ax4.pcolor(expiry6M, edgecolors = 'k', linewidths = 2)\n",
    "\n",
    "            ax4.set_xticklabels(['02Y', '05Y', '10Y', '30Y'], fontdict = {'fontsize': 10})#, rotation='vertical')\n",
    "            ax4.set_xticks([.5, 1.5, 2.5, 3.5])\n",
    "            ax4.set_yticklabels(['-100', '-50', '-25', '0', '25', '50', '100'], fontdict = {'fontsize': 10})#, rotation='vertical')\n",
    "            ax4.set_yticks([.5, 1.5, 2.5, 3.5, 4.5, 5.5, 6.5])\n",
    "            ax4.set_ylabel('06M')\n",
    "\n",
    "            #AX5---------------------------------------------\n",
    "\n",
    "            expiry1Y = np.zeros((len(relative_strike),len(tenor)))\n",
    "            if j == '01Y':\n",
    "                expiry1Y[relative_strike.index(ii), tenor.index(k)] = 1\n",
    "\n",
    "            ax5.pcolor(expiry1Y, edgecolors = 'k', linewidths = 2)\n",
    "\n",
    "            ax5.set_xticklabels(['02Y', '05Y', '10Y', '30Y'], fontdict = {'fontsize': 10})#, rotation='vertical')\n",
    "            ax5.set_xticks([.5, 1.5, 2.5, 3.5])\n",
    "            ax5.set_yticklabels(['-100', '-50', '-25', '0', '25', '50', '100'], fontdict = {'fontsize': 10})#, rotation='vertical')\n",
    "            ax5.set_yticks([.5, 1.5, 2.5, 3.5, 4.5, 5.5, 6.5])\n",
    "            ax5.set_ylabel('01Y')\n",
    "\n",
    "            #AX6---------------------------------------------\n",
    "\n",
    "            expiry2Y = np.zeros((len(relative_strike),len(tenor)))\n",
    "            if j == '02Y':\n",
    "                expiry2Y[relative_strike.index(ii), tenor.index(k)] = 1\n",
    "\n",
    "            ax6.pcolor(expiry2Y, edgecolors = 'k', linewidths = 2)\n",
    "\n",
    "            ax6.set_xticklabels(['02Y', '05Y', '10Y', '30Y'], fontdict = {'fontsize': 10})#, rotation='vertical')\n",
    "            ax6.set_xticks([.5, 1.5, 2.5, 3.5])\n",
    "            ax6.set_yticklabels(['-100', '-50', '-25', '0', '25', '50', '100'], fontdict = {'fontsize': 10})#, rotation='vertical')\n",
    "            ax6.set_yticks([.5, 1.5, 2.5, 3.5, 4.5, 5.5, 6.5])\n",
    "            ax6.set_ylabel('02Y')\n",
    "\n",
    "\n",
    "            #Save Plot-----------------------------------------\n",
    "    #        sPath = (r'C:\\Users\\fella\\Desktop\\Documents\\2.One time\\Demande\\Tekogan\\Swaption\\SwaptionPlot')\n",
    "    #        os.path.join(sPath, pTitle+'.png')  \n",
    "    #        plt.savefig(os.path.join(sPath, pTitle+'.png'))\n",
    "    #        plt.close()\n",
    "\n",
    "            #Save Plot to pdf----------------------------------\n",
    "            pdf_Title.append(pTitle+'.pdf')\n",
    "            sPath = (r'C:\\Users\\fella\\Desktop\\Documents\\2.One time\\Demande\\Tekogan\\Swaption\\SwaptionPlot')\n",
    "            pp = PdfPages(os.path.join(sPath, pTitle+'.pdf'))\n",
    "            pp.savefig()\n",
    "            pp.close()\n",
    "            plt.close()"
   ]
  },
  {
   "cell_type": "code",
   "execution_count": 28,
   "metadata": {
    "collapsed": true
   },
   "outputs": [],
   "source": [
    "# Creating a routine that appends files to the output file\n",
    "def append_pdf(inputfile,output):\n",
    "    [output.addPage(inputfile.getPage(page_num)) for page_num in range(inputfile.numPages)]\n",
    "    \n",
    "# Creating an object where pdf pages are appended to\n",
    "output = PdfFileWriter()\n",
    "\n",
    "for files in pdf_Title:\n",
    "    sample1 = os.path.join(sPath, files)\n",
    "    append_pdf(PdfFileReader(open(sample1,\"rb\")),output)\n",
    "    \n",
    "output.write(open(os.path.join(sPath, i+'.pdf'),\"wb\"))"
   ]
  },
  {
   "cell_type": "code",
   "execution_count": 39,
   "metadata": {},
   "outputs": [
    {
     "data": {
      "text/plain": [
       "array([[ 0.,  0.,  0.,  0.],\n",
       "       [ 0.,  0.,  0.,  0.],\n",
       "       [ 0.,  0.,  0.,  0.],\n",
       "       [ 0.,  0.,  0.,  0.],\n",
       "       [ 0.,  0.,  0.,  0.],\n",
       "       [ 0.,  0.,  0.,  0.],\n",
       "       [ 0.,  0.,  0.,  0.]])"
      ]
     },
     "execution_count": 39,
     "metadata": {},
     "output_type": "execute_result"
    }
   ],
   "source": [
    "np.zeros((7,4))"
   ]
  },
  {
   "cell_type": "code",
   "execution_count": null,
   "metadata": {
    "collapsed": true
   },
   "outputs": [],
   "source": []
  }
 ],
 "metadata": {
  "kernelspec": {
   "display_name": "Python 3",
   "language": "python",
   "name": "python3"
  },
  "language_info": {
   "codemirror_mode": {
    "name": "ipython",
    "version": 3
   },
   "file_extension": ".py",
   "mimetype": "text/x-python",
   "name": "python",
   "nbconvert_exporter": "python",
   "pygments_lexer": "ipython3",
   "version": "3.6.1"
  }
 },
 "nbformat": 4,
 "nbformat_minor": 2
}
